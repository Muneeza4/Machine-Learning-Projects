{
 "cells": [
  {
   "cell_type": "code",
   "execution_count": null,
   "id": "4687b04f",
   "metadata": {},
   "outputs": [],
   "source": [
    "import pandas as pd\n",
    "import matplotlib.pyplot as plt \n",
    "import seaborn as sns\n",
    "\n",
    "from sklearn.linear_model import LinearRegression\n",
    "from sklearn.model_selection import train_test_split"
   ]
  },
  {
   "cell_type": "code",
   "execution_count": null,
   "id": "b68a9656",
   "metadata": {
    "scrolled": true
   },
   "outputs": [],
   "source": [
    "df = pd.read_csv(\"tvmarketing.csv\")\n",
    "df.head()"
   ]
  },
  {
   "cell_type": "code",
   "execution_count": null,
   "id": "084cc91f",
   "metadata": {},
   "outputs": [],
   "source": [
    "X = df[['TV']] \n",
    "y = df[['Sales']]  "
   ]
  },
  {
   "cell_type": "code",
   "execution_count": null,
   "id": "e12147e5",
   "metadata": {},
   "outputs": [],
   "source": [
    "model = LinearRegression()"
   ]
  },
  {
   "cell_type": "code",
   "execution_count": null,
   "id": "53b0e011",
   "metadata": {},
   "outputs": [],
   "source": [
    "# Training the model\n",
    "\n",
    "model.fit(X, y)\n",
    "\n",
    "\n",
    "# Making predictions\n",
    "\n",
    "y_pred = model.predict(X)"
   ]
  },
  {
   "cell_type": "code",
   "execution_count": null,
   "id": "689c5446",
   "metadata": {},
   "outputs": [],
   "source": [
    "# Split the data into training and testing sets\n",
    "\n",
    "X_train, X_test, y_train, y_test = train_test_split ( X, y, test_size = 0.2 , random_state = 41)\n",
    "8\n",
    "\n",
    "# Initialize and train the new model\n",
    "\n",
    "model_new = LinearRegression()\n",
    "\n",
    "model_new.fit(X_train, y_train)\n",
    "\n",
    "# Make predictions on the test set\n",
    "\n",
    "y_pred_test = model.predict(X_test)"
   ]
  },
  {
   "cell_type": "code",
   "execution_count": null,
   "id": "a4fa844d",
   "metadata": {},
   "outputs": [],
   "source": [
    "# Make predictions on the test setabs\n",
    "# 44.5 is the input\n",
    "\n",
    "model_new.predict([[44.5]])"
   ]
  },
  {
   "cell_type": "code",
   "execution_count": null,
   "id": "5470220c",
   "metadata": {},
   "outputs": [],
   "source": [
    "# Plot the original data\n",
    "\n",
    "plt.figure(figsize=(14, 6))\n",
    "\n",
    "# Scatter plot of the original data\n",
    "plt.subplot(1, 2, 1)\n",
    "plt.scatter(df['TV'], df['Sales'], color='blue', label='Actual Data')\n",
    "plt.plot(df['TV'], y_pred, color='red', linewidth=2, label='Regression Line')\n",
    "plt.xlabel('TV Advertising Budget')\n",
    "plt.ylabel('Sales')\n",
    "plt.title('TV Advertising vs Sales')\n",
    "plt.legend()\n",
    "\n",
    "\n",
    "# Plot of predicted vs actual points\n",
    "plt.subplot(1, 2, 2)\n",
    "plt.scatter(X_test, y_test, color='blue', label='Actual Sales')\n",
    "plt.scatter(X_test, y_pred_test, color='red', label='Predicted Sales')\n",
    "plt.xlabel('TV Advertising Budget')\n",
    "plt.ylabel('Sales')\n",
    "plt.title('Actual vs Predicted Sales')\n",
    "plt.legend()\n",
    "\n",
    "plt.tight_layout()\n",
    "\n",
    "plt.savefig('Prediction.jpeg')\n",
    "\n",
    "plt.show()"
   ]
  },
  {
   "cell_type": "code",
   "execution_count": null,
   "id": "f3f9b188",
   "metadata": {},
   "outputs": [],
   "source": [
    "# Evaluate the model\n",
    "\n",
    "model_score = model.score(X_test, y_test) * 100\n",
    "print(f\"Model Score (R-squared): {model_score:.2f}%\")"
   ]
  },
  {
   "cell_type": "code",
   "execution_count": null,
   "id": "8ba8f2fb",
   "metadata": {},
   "outputs": [],
   "source": [
    "# Function to predict sales based on TV advertising budget input\n",
    "\n",
    "def predict_sales():\n",
    "    try:\n",
    "        TV_budget = float(input(\"Enter TV advertising budget: \"))\n",
    "        \n",
    "        # Prepare input data for prediction\n",
    "        input_data = np.array([[TV_budget]])\n",
    "        \n",
    "        # Make prediction\n",
    "        prediction = model.predict(input_data)\n",
    "        \n",
    "        print(f\"Predicted sales for TV budget = {TV_budget}: {prediction[0]:.2f}\")\n",
    "    \n",
    "    except ValueError:\n",
    "        print(\"Please enter a valid numerical value.\")\n",
    "\n",
    "# Example usage:\n",
    "predict_sales()"
   ]
  },
  {
   "cell_type": "code",
   "execution_count": null,
   "id": "918a74d4",
   "metadata": {},
   "outputs": [],
   "source": []
  }
 ],
 "metadata": {
  "kernelspec": {
   "display_name": "Python 3 (ipykernel)",
   "language": "python",
   "name": "python3"
  },
  "language_info": {
   "codemirror_mode": {
    "name": "ipython",
    "version": 3
   },
   "file_extension": ".py",
   "mimetype": "text/x-python",
   "name": "python",
   "nbconvert_exporter": "python",
   "pygments_lexer": "ipython3",
   "version": "3.11.5"
  }
 },
 "nbformat": 4,
 "nbformat_minor": 5
}
