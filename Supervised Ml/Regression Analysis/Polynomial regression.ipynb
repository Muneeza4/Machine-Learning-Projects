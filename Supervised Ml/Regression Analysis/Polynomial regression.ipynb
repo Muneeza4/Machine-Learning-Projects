{
 "cells": [
  {
   "cell_type": "code",
   "execution_count": null,
   "id": "a1b951a3",
   "metadata": {},
   "outputs": [],
   "source": [
    "import pandas as pd \n",
    "import matplotlib.pyplot as plt\n",
    "import seaborn as sns\n",
    "import numpy as np\n",
    "\n",
    "from sklearn.linear_model import LinearRegression\n",
    "from sklearn.preprocessing import PolynomialFeatures\n",
    "from sklearn.model_selection import train_test_split\n",
    "from sklearn.metrics import mean_squared_error, r2_score"
   ]
  },
  {
   "cell_type": "code",
   "execution_count": null,
   "id": "4569e2bd",
   "metadata": {},
   "outputs": [],
   "source": [
    "# Sample DataFrame \n",
    "\n",
    "data = {\n",
    "    'unit_price': [5, 7, 8, 9, 10, 11, 12, 13, 14, 15],\n",
    "    'quantity': [1, 2, 3, 4, 5, 6, 7, 8, 9, 10],\n",
    "    'total_price': [5, 14, 24, 36, 50, 66, 84, 104, 126, 150]\n",
    "}\n",
    "df = pd.DataFrame(data)\n"
   ]
  },
  {
   "cell_type": "code",
   "execution_count": null,
   "id": "833b82c5",
   "metadata": {},
   "outputs": [],
   "source": [
    "# Scatter plot\n",
    "\n",
    "sns.scatterplot(x='quantity', y='unit_price', data=df)\n",
    "plt.show()\n",
    "\n",
    "sns.scatterplot(x='unit_price', y='total_price', data=df)\n",
    "plt.show()\n",
    "\n",
    "# Pairplot\n",
    "\n",
    "sns.pairplot(df)\n",
    "plt.show()"
   ]
  },
  {
   "cell_type": "code",
   "execution_count": null,
   "id": "50980fea",
   "metadata": {},
   "outputs": [],
   "source": [
    "x = df[['unit_price','quantity',]]\n",
    "y = df[['total_price']]"
   ]
  },
  {
   "cell_type": "code",
   "execution_count": null,
   "id": "a4b0482f",
   "metadata": {},
   "outputs": [],
   "source": [
    "# Split data into training and testing sets\n",
    "\n",
    "x_train, x_test, y_train, y_test = train_test_split(x, y, test_size=0.2, random_state=42)\n",
    "\n",
    "# Transform features using PolynomialFeatures\n",
    "\n",
    "x_train_poly = pf.fit_transform(x_train)\n",
    "x_test_poly = pf.transform(x_test)\n",
    "\n",
    "# Fit the model on training data\n",
    "\n",
    "model.fit(x_train_poly, y_train)"
   ]
  },
  {
   "cell_type": "code",
   "execution_count": null,
   "id": "646a6940",
   "metadata": {},
   "outputs": [],
   "source": [
    "# Evaluate the model on testing data\n",
    "\n",
    "model_score = model.score(x_test_poly, y_test)\n",
    "print(f\"Model Score (R-squared) on testing data: {model_score:.2f}\")"
   ]
  },
  {
   "cell_type": "code",
   "execution_count": null,
   "id": "cc7872de",
   "metadata": {},
   "outputs": [],
   "source": [
    "# Initialize PolynomialFeatures and fit to data\n",
    "pf = PolynomialFeatures(degree=3)\n",
    "x_train_poly = pf.fit_transform(x_train)\n",
    "x_test_poly = pf.transform(x_test)\n",
    "\n",
    "# Fit the polynomial regression model\n",
    "model = LinearRegression()\n",
    "model.fit(x_train_poly, y_train)\n"
   ]
  },
  {
   "cell_type": "code",
   "execution_count": null,
   "id": "35a0792f",
   "metadata": {},
   "outputs": [],
   "source": [
    "# Function to predict total_price based on user input\n",
    "\n",
    "def predict_total_price():\n",
    "    try:\n",
    "        unit_price = float(input(\"Enter unit price: \"))\n",
    "        quantity = int(input(\"Enter quantity: \"))\n",
    "        \n",
    "        # Prepare input data for prediction\n",
    "        input_data = np.array([[unit_price, quantity]])\n",
    "        input_data_poly = pf.transform(input_data)\n",
    "        \n",
    "        # Make prediction\n",
    "        prediction = model.predict(input_data_poly)\n",
    "        \n",
    "        print(f\"Predicted total_price for unit_price = {unit_price} and quantity = {quantity}: {prediction[0]:.2f}\")\n",
    "    \n",
    "    except ValueError:\n",
    "        print(\"Please enter valid numerical values.\")\n",
    "\n",
    "        \n",
    "        \n",
    "# Function calling.\n",
    "predict_total_price()"
   ]
  },
  {
   "cell_type": "code",
   "execution_count": null,
   "id": "af754e53",
   "metadata": {},
   "outputs": [],
   "source": []
  }
 ],
 "metadata": {
  "kernelspec": {
   "display_name": "Python 3 (ipykernel)",
   "language": "python",
   "name": "python3"
  },
  "language_info": {
   "codemirror_mode": {
    "name": "ipython",
    "version": 3
   },
   "file_extension": ".py",
   "mimetype": "text/x-python",
   "name": "python",
   "nbconvert_exporter": "python",
   "pygments_lexer": "ipython3",
   "version": "3.11.5"
  }
 },
 "nbformat": 4,
 "nbformat_minor": 5
}
